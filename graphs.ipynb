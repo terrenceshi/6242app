{
 "cells": [
  {
   "cell_type": "markdown",
   "metadata": {},
   "source": [
    "# Gerate graphs from poll results"
   ]
  },
  {
   "cell_type": "code",
   "execution_count": 31,
   "metadata": {},
   "outputs": [],
   "source": [
    "import pandas as pd\n",
    "import matplotlib.pyplot as plt\n",
    "import numpy as np"
   ]
  },
  {
   "cell_type": "code",
   "execution_count": 79,
   "metadata": {},
   "outputs": [
    {
     "data": {
      "text/html": [
       "<div>\n",
       "<style scoped>\n",
       "    .dataframe tbody tr th:only-of-type {\n",
       "        vertical-align: middle;\n",
       "    }\n",
       "\n",
       "    .dataframe tbody tr th {\n",
       "        vertical-align: top;\n",
       "    }\n",
       "\n",
       "    .dataframe thead th {\n",
       "        text-align: right;\n",
       "    }\n",
       "</style>\n",
       "<table border=\"1\" class=\"dataframe\">\n",
       "  <thead>\n",
       "    <tr style=\"text-align: right;\">\n",
       "      <th></th>\n",
       "      <th>Marca temporal</th>\n",
       "      <th>What is your age?</th>\n",
       "      <th>Would you use it again?</th>\n",
       "      <th>How interested are you in generating playlists for books?</th>\n",
       "      <th>How unique is this web-app to you?</th>\n",
       "      <th>What was your perceived wait time for generating a playlist?</th>\n",
       "      <th>Do you feel the book search was too limited?</th>\n",
       "      <th>How well did the generated playlist match the book theme?</th>\n",
       "      <th>How easy was to access the web-app?\\n</th>\n",
       "      <th>How easy was to navigate the website?</th>\n",
       "      <th>Did you find any bugs? (If yes, please explain)</th>\n",
       "      <th>How do you like the interface design?</th>\n",
       "      <th>How easy was it access to your playlist recommendation?</th>\n",
       "      <th>Would you like another music platform option, other than Spotify? If so, specify</th>\n",
       "    </tr>\n",
       "  </thead>\n",
       "  <tbody>\n",
       "    <tr>\n",
       "      <th>0</th>\n",
       "      <td>1/12/2022 15:28:24</td>\n",
       "      <td>21</td>\n",
       "      <td>Yes</td>\n",
       "      <td>5</td>\n",
       "      <td>5</td>\n",
       "      <td>4</td>\n",
       "      <td>5</td>\n",
       "      <td>4</td>\n",
       "      <td>5</td>\n",
       "      <td>5</td>\n",
       "      <td>No</td>\n",
       "      <td>5</td>\n",
       "      <td>5</td>\n",
       "      <td>Google play music</td>\n",
       "    </tr>\n",
       "    <tr>\n",
       "      <th>1</th>\n",
       "      <td>1/12/2022 15:29:36</td>\n",
       "      <td>21</td>\n",
       "      <td>Yes</td>\n",
       "      <td>4</td>\n",
       "      <td>5</td>\n",
       "      <td>4</td>\n",
       "      <td>5</td>\n",
       "      <td>3</td>\n",
       "      <td>5</td>\n",
       "      <td>5</td>\n",
       "      <td>No</td>\n",
       "      <td>5</td>\n",
       "      <td>5</td>\n",
       "      <td>NaN</td>\n",
       "    </tr>\n",
       "    <tr>\n",
       "      <th>2</th>\n",
       "      <td>1/12/2022 15:29:49</td>\n",
       "      <td>18</td>\n",
       "      <td>Yes</td>\n",
       "      <td>5</td>\n",
       "      <td>4</td>\n",
       "      <td>3</td>\n",
       "      <td>5</td>\n",
       "      <td>4</td>\n",
       "      <td>5</td>\n",
       "      <td>5</td>\n",
       "      <td>No.</td>\n",
       "      <td>5</td>\n",
       "      <td>5</td>\n",
       "      <td>No.</td>\n",
       "    </tr>\n",
       "    <tr>\n",
       "      <th>3</th>\n",
       "      <td>1/12/2022 15:30:18</td>\n",
       "      <td>18</td>\n",
       "      <td>Yes</td>\n",
       "      <td>5</td>\n",
       "      <td>5</td>\n",
       "      <td>4</td>\n",
       "      <td>5</td>\n",
       "      <td>4</td>\n",
       "      <td>5</td>\n",
       "      <td>5</td>\n",
       "      <td>No</td>\n",
       "      <td>5</td>\n",
       "      <td>5</td>\n",
       "      <td>NaN</td>\n",
       "    </tr>\n",
       "    <tr>\n",
       "      <th>4</th>\n",
       "      <td>1/12/2022 15:31:25</td>\n",
       "      <td>55</td>\n",
       "      <td>Yes</td>\n",
       "      <td>3</td>\n",
       "      <td>5</td>\n",
       "      <td>4</td>\n",
       "      <td>5</td>\n",
       "      <td>4</td>\n",
       "      <td>4</td>\n",
       "      <td>5</td>\n",
       "      <td>No</td>\n",
       "      <td>4</td>\n",
       "      <td>5</td>\n",
       "      <td>NaN</td>\n",
       "    </tr>\n",
       "  </tbody>\n",
       "</table>\n",
       "</div>"
      ],
      "text/plain": [
       "       Marca temporal  What is your age? Would you use it again?  \\\n",
       "0  1/12/2022 15:28:24                 21                     Yes   \n",
       "1  1/12/2022 15:29:36                 21                     Yes   \n",
       "2  1/12/2022 15:29:49                 18                     Yes   \n",
       "3  1/12/2022 15:30:18                 18                     Yes   \n",
       "4  1/12/2022 15:31:25                 55                     Yes   \n",
       "\n",
       "   How interested are you in generating playlists for books?  \\\n",
       "0                                                  5           \n",
       "1                                                  4           \n",
       "2                                                  5           \n",
       "3                                                  5           \n",
       "4                                                  3           \n",
       "\n",
       "   How unique is this web-app to you?   \\\n",
       "0                                    5   \n",
       "1                                    5   \n",
       "2                                    4   \n",
       "3                                    5   \n",
       "4                                    5   \n",
       "\n",
       "   What was your perceived wait time for generating a playlist?  \\\n",
       "0                                                  4              \n",
       "1                                                  4              \n",
       "2                                                  3              \n",
       "3                                                  4              \n",
       "4                                                  4              \n",
       "\n",
       "   Do you feel the book search was too limited?  \\\n",
       "0                                             5   \n",
       "1                                             5   \n",
       "2                                             5   \n",
       "3                                             5   \n",
       "4                                             5   \n",
       "\n",
       "   How well did the generated playlist match the book theme?  \\\n",
       "0                                                  4           \n",
       "1                                                  3           \n",
       "2                                                  4           \n",
       "3                                                  4           \n",
       "4                                                  4           \n",
       "\n",
       "   How easy was to access the web-app?\\n  \\\n",
       "0                                      5   \n",
       "1                                      5   \n",
       "2                                      5   \n",
       "3                                      5   \n",
       "4                                      4   \n",
       "\n",
       "   How easy was to navigate the website?  \\\n",
       "0                                      5   \n",
       "1                                      5   \n",
       "2                                      5   \n",
       "3                                      5   \n",
       "4                                      5   \n",
       "\n",
       "  Did you find any bugs? (If yes, please explain)  \\\n",
       "0                                              No   \n",
       "1                                              No   \n",
       "2                                             No.   \n",
       "3                                              No   \n",
       "4                                              No   \n",
       "\n",
       "   How do you like the interface design?  \\\n",
       "0                                      5   \n",
       "1                                      5   \n",
       "2                                      5   \n",
       "3                                      5   \n",
       "4                                      4   \n",
       "\n",
       "   How easy was it access to your playlist recommendation?  \\\n",
       "0                                                  5         \n",
       "1                                                  5         \n",
       "2                                                  5         \n",
       "3                                                  5         \n",
       "4                                                  5         \n",
       "\n",
       "  Would you like another music platform option, other than Spotify? If so, specify  \n",
       "0                                  Google play music                                \n",
       "1                                                NaN                                \n",
       "2                                                No.                                \n",
       "3                                                NaN                                \n",
       "4                                                NaN                                "
      ]
     },
     "execution_count": 79,
     "metadata": {},
     "output_type": "execute_result"
    }
   ],
   "source": [
    "df = pd.read_csv('Data/poll.csv')\n",
    "df.head()"
   ]
  },
  {
   "cell_type": "code",
   "execution_count": 58,
   "metadata": {},
   "outputs": [],
   "source": [
    "#Define number of numeric keys\n",
    "num_col_keys=list(df.select_dtypes([np.number]).columns)\n",
    "#define colors for each section\n",
    "colors=['m','m','y','y','y','c','c','c','c','c']\n",
    "#Define params for legend\n",
    "color_dict = {'Innovation':'m', 'Quality':'y', 'Usability':'c'}         \n",
    "labels = list(color_dict.keys())\n",
    "handles = [plt.Rectangle((0,0),1,1, color=color_dict[label]) for label in labels]"
   ]
  },
  {
   "cell_type": "code",
   "execution_count": 78,
   "metadata": {},
   "outputs": [
    {
     "name": "stderr",
     "output_type": "stream",
     "text": [
      "/var/folders/9r/rygtxm110fg1vjdwzj8f17zw0000gn/T/ipykernel_57414/728628488.py:3: FutureWarning: The default value of numeric_only in DataFrame.mean is deprecated. In a future version, it will default to False. In addition, specifying 'numeric_only=None' is deprecated. Select only valid columns or specify the value of numeric_only to silence this warning.\n",
      "  ax.bar(range(0,9), df.mean()[1:len(df.mean())], yerr=df.std()[1:len(df.mean())], align='center', alpha=0.5, ecolor='black', capsize=10, color=colors)\n",
      "/var/folders/9r/rygtxm110fg1vjdwzj8f17zw0000gn/T/ipykernel_57414/728628488.py:3: FutureWarning: The default value of numeric_only in DataFrame.std is deprecated. In a future version, it will default to False. In addition, specifying 'numeric_only=None' is deprecated. Select only valid columns or specify the value of numeric_only to silence this warning.\n",
      "  ax.bar(range(0,9), df.mean()[1:len(df.mean())], yerr=df.std()[1:len(df.mean())], align='center', alpha=0.5, ecolor='black', capsize=10, color=colors)\n"
     ]
    },
    {
     "data": {
      "image/png": "[encoded data removed]",
      "text/plain": [
       "<Figure size 640x480 with 1 Axes>"
      ]
     },
     "metadata": {},
     "output_type": "display_data"
    },
    {
     "data": {
      "text/plain": [
       "<Figure size 400x200 with 0 Axes>"
      ]
     },
     "metadata": {},
     "output_type": "display_data"
    }
   ],
   "source": [
    "# Build the plot\n",
    "fig, ax = plt.subplots()\n",
    "ax.bar(range(0,9), df.mean()[1:len(df.mean())], yerr=df.std()[1:len(df.mean())], align='center', alpha=0.5, ecolor='black', capsize=10, color=colors)\n",
    "ax.set_ylabel('Mean value')\n",
    "ax.set_xlabel('Question Number')\n",
    "ax.set_xticks(range(0,9))\n",
    "#ax.set_xticklabels(num_col_keys[1:len(num_col_keys)])\n",
    "ax.set_title('Evaluation feedback bar plot')\n",
    "ax.yaxis.grid(True)\n",
    "\n",
    "# Save the figure and show\n",
    "plt.tight_layout()\n",
    "plt.savefig('bar_plot_with_error_bars.svg')\n",
    "plt.legend(handles, labels)\n",
    "plt.figure(figsize=(4,2))\n",
    "plt.show()\n"
   ]
  },
  {
   "cell_type": "markdown",
   "metadata": {},
   "source": [
    "## Plot of age distribution (histogram)"
   ]
  },
  {
   "cell_type": "code",
   "execution_count": 77,
   "metadata": {},
   "outputs": [
    {
     "data": {
      "image/png": "[encoded data removed]",
      "text/plain": [
       "<Figure size 400x200 with 1 Axes>"
      ]
     },
     "metadata": {},
     "output_type": "display_data"
    }
   ],
   "source": [
    "# Area plot for age distribution\n",
    "counts, bins = np.histogram(age,range=(min(age),max(age)))\n",
    "plt.figure(figsize=(4,2))\n",
    "plt.hist(bins[:-1], bins, weights=counts)\n",
    "plt.savefig('Age_distribution_plot.svg')\n",
    "plt.show()"
   ]
  },
  {
   "cell_type": "code",
   "execution_count": null,
   "metadata": {},
   "outputs": [],
   "source": []
  },
  {
   "cell_type": "code",
   "execution_count": null,
   "metadata": {},
   "outputs": [],
   "source": []
  }
 ],
 "metadata": {
  "kernelspec": {
   "display_name": "strugglebus",
   "language": "python",
   "name": "strugglebus"
  },
  "language_info": {
   "codemirror_mode": {
    "name": "ipython",
    "version": 3
   },
   "file_extension": ".py",
   "mimetype": "text/x-python",
   "name": "python",
   "nbconvert_exporter": "python",
   "pygments_lexer": "ipython3",
   "version": "3.10.6"
  },
  "orig_nbformat": 4
 },
 "nbformat": 4,
 "nbformat_minor": 2
}
