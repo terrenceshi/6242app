{
 "cells": [
  {
   "cell_type": "code",
   "execution_count": 78,
   "id": "d231ad77",
   "metadata": {},
   "outputs": [],
   "source": [
    "import requests\n",
    "import json\n",
    "from sentence_transformers import SentenceTransformer\n",
    "\n",
    "#from lyrics_api import *"
   ]
  },
  {
   "cell_type": "code",
   "execution_count": 81,
   "id": "89997d46",
   "metadata": {},
   "outputs": [],
   "source": [
    "def getLyrics(artistName, trackName):\n",
    "\n",
    "    #CREATE THE URL\n",
    "    baseUrl = \"https://api.musixmatch.com/ws/1.1/\"\n",
    "\n",
    "    apiKey = \"&apikey=bd88be6fb629c354c5ca281296ac8c47\"\n",
    "\n",
    "    lyricsMatcher = \"matcher.lyrics.get\"\n",
    "\n",
    "    formatUrl = \"?format=json&callback=callback\"\n",
    "\n",
    "    artistSearch = \"&q_artist=\"\n",
    "\n",
    "    trackSearch = \"&q_track=\"\n",
    "\n",
    "    #MAKE THE API CALL\n",
    "    apiCall = baseUrl + lyricsMatcher + formatUrl + artistSearch + artistName + trackSearch + trackName + apiKey\n",
    "\n",
    "    request = requests.get(apiCall)\n",
    "\n",
    "    data = request.json()\n",
    "\n",
    "    data = data['message']['body']\n",
    "\n",
    "    lyrics = data['lyrics']['lyrics_body']\n",
    "    \n",
    "    #PROCESS THE DATA\n",
    "    lyrics = lyrics.split('\\n')\n",
    "    \n",
    "    lyrics = list(filter(lambda a: a != '', lyrics))\n",
    "    \n",
    "    lyrics = lyrics[:-2]\n",
    "    \n",
    "    #output = \"\"\n",
    "    \n",
    "    '''\n",
    "    for sentence in lyrics:\n",
    "        output = output + sentence + \". \"\n",
    "        \n",
    "    output = output[:-1]\n",
    "    '''\n",
    "    \n",
    "    return lyrics\n",
    "\n"
   ]
  },
  {
   "cell_type": "code",
   "execution_count": 82,
   "id": "b52f0623",
   "metadata": {},
   "outputs": [
    {
     "data": {
      "text/plain": [
       "[\"I've been waking up\",\n",
       " 'Getting so fucked up',\n",
       " \"Yeah, I'm all fucked up\",\n",
       " 'Tryna fuck shit up',\n",
       " \"I've been waking up\",\n",
       " 'Wanna fuck you up',\n",
       " 'Wanna fuck you up',\n",
       " 'I wanna fuck you up, ah',\n",
       " \"I've been waking up\",\n",
       " 'Getting so fucked up',\n",
       " 'Tryna fuck shit up',\n",
       " \"Yeah, I'm all fucked up, ah\",\n",
       " \"I've been waking up\",\n",
       " 'Wanna fuck you up',\n",
       " 'Wanna fuck you up',\n",
       " 'I wanna fuck you up']"
      ]
     },
     "execution_count": 82,
     "metadata": {},
     "output_type": "execute_result"
    }
   ],
   "source": [
    "lyrics = getLyrics(\"FIDLAR\", \"FSU\")\n",
    "\n",
    "lyrics"
   ]
  },
  {
   "cell_type": "code",
   "execution_count": 86,
   "id": "0115c13e",
   "metadata": {},
   "outputs": [],
   "source": [
    "def getEmbedding(lyrics):\n",
    "    model = SentenceTransformer('all-MiniLM-L6-v2')\n",
    "\n",
    "    embeddings = model.encode(lyrics)\n",
    "\n",
    "    return embeddings"
   ]
  },
  {
   "cell_type": "code",
   "execution_count": 87,
   "id": "939bfdbf",
   "metadata": {},
   "outputs": [
    {
     "data": {
      "text/plain": [
       "array([[ 0.00114902,  0.00313718,  0.03125548, ..., -0.01650619,\n",
       "        -0.01244194, -0.06759863],\n",
       "       [-0.04123046,  0.05351889,  0.03241228, ..., -0.0114714 ,\n",
       "         0.02905795, -0.04907828],\n",
       "       [ 0.00386012, -0.05138487,  0.06638323, ..., -0.07088796,\n",
       "         0.04141023, -0.09461488],\n",
       "       ...,\n",
       "       [-0.04801308,  0.04056778,  0.02719494, ..., -0.00431593,\n",
       "         0.01439665, -0.09861775],\n",
       "       [-0.04801308,  0.04056778,  0.02719494, ..., -0.00431593,\n",
       "         0.01439665, -0.09861775],\n",
       "       [-0.08766278,  0.04322638,  0.0267636 , ..., -0.00296094,\n",
       "         0.0123751 , -0.11467296]], dtype=float32)"
      ]
     },
     "execution_count": 87,
     "metadata": {},
     "output_type": "execute_result"
    }
   ],
   "source": [
    "embeddings"
   ]
  },
  {
   "cell_type": "code",
   "execution_count": null,
   "id": "3a8b4d3b",
   "metadata": {},
   "outputs": [],
   "source": []
  }
 ],
 "metadata": {
  "kernelspec": {
   "display_name": "Python 3 (ipykernel)",
   "language": "python",
   "name": "python3"
  },
  "language_info": {
   "codemirror_mode": {
    "name": "ipython",
    "version": 3
   },
   "file_extension": ".py",
   "mimetype": "text/x-python",
   "name": "python",
   "nbconvert_exporter": "python",
   "pygments_lexer": "ipython3",
   "version": "3.9.12"
  }
 },
 "nbformat": 4,
 "nbformat_minor": 5
}
