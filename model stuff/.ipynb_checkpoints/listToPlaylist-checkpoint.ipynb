{
 "cells": [
  {
   "cell_type": "code",
   "execution_count": 15,
   "id": "072e02ac",
   "metadata": {},
   "outputs": [],
   "source": [
    "from sentence_transformers import SentenceTransformer\n",
    "\n",
    "from os import listdir\n",
    "from os.path import isfile, join\n",
    "\n",
    "import csv\n",
    "import pandas as pd\n",
    "\n",
    "import spotipy\n",
    "from spotipy.oauth2 import SpotifyClientCredentials\n",
    "\n",
    "import requests"
   ]
  },
  {
   "cell_type": "code",
   "execution_count": 16,
   "id": "932d6280",
   "metadata": {},
   "outputs": [],
   "source": [
    "cid=\"715ae75406e24c24a3641929260ca343\"\n",
    "secret=\"e60a686258c646b7a4d3f9636b3235db\""
   ]
  },
  {
   "cell_type": "code",
   "execution_count": 17,
   "id": "c769e5b5",
   "metadata": {},
   "outputs": [],
   "source": [
    "client_credentials_manager = SpotifyClientCredentials(client_id=cid, client_secret=secret)\n",
    "sp = spotipy.Spotify(client_credentials_manager = client_credentials_manager)"
   ]
  },
  {
   "cell_type": "code",
   "execution_count": 38,
   "id": "65edf520",
   "metadata": {},
   "outputs": [
    {
     "data": {
      "text/plain": [
       "{'album': {'album_type': 'album',\n",
       "  'artists': [{'external_urls': {'spotify': 'https://open.spotify.com/artist/1dfeR4HaWDbWqFHLkxsg1d'},\n",
       "    'href': 'https://api.spotify.com/v1/artists/1dfeR4HaWDbWqFHLkxsg1d',\n",
       "    'id': '1dfeR4HaWDbWqFHLkxsg1d',\n",
       "    'name': 'Queen',\n",
       "    'type': 'artist',\n",
       "    'uri': 'spotify:artist:1dfeR4HaWDbWqFHLkxsg1d'}],\n",
       "  'available_markets': ['CA', 'US'],\n",
       "  'external_urls': {'spotify': 'https://open.spotify.com/album/6X9k3hSsvQck2OfKYdBbXr'},\n",
       "  'href': 'https://api.spotify.com/v1/albums/6X9k3hSsvQck2OfKYdBbXr',\n",
       "  'id': '6X9k3hSsvQck2OfKYdBbXr',\n",
       "  'images': [{'height': 640,\n",
       "    'url': 'https://i.scdn.co/image/ab67616d0000b273ce4f1737bc8a646c8c4bd25a',\n",
       "    'width': 640},\n",
       "   {'height': 300,\n",
       "    'url': 'https://i.scdn.co/image/ab67616d00001e02ce4f1737bc8a646c8c4bd25a',\n",
       "    'width': 300},\n",
       "   {'height': 64,\n",
       "    'url': 'https://i.scdn.co/image/ab67616d00004851ce4f1737bc8a646c8c4bd25a',\n",
       "    'width': 64}],\n",
       "  'name': 'A Night At The Opera (Deluxe Remastered Version)',\n",
       "  'release_date': '1975-11-21',\n",
       "  'release_date_precision': 'day',\n",
       "  'total_tracks': 18,\n",
       "  'type': 'album',\n",
       "  'uri': 'spotify:album:6X9k3hSsvQck2OfKYdBbXr'},\n",
       " 'artists': [{'external_urls': {'spotify': 'https://open.spotify.com/artist/1dfeR4HaWDbWqFHLkxsg1d'},\n",
       "   'href': 'https://api.spotify.com/v1/artists/1dfeR4HaWDbWqFHLkxsg1d',\n",
       "   'id': '1dfeR4HaWDbWqFHLkxsg1d',\n",
       "   'name': 'Queen',\n",
       "   'type': 'artist',\n",
       "   'uri': 'spotify:artist:1dfeR4HaWDbWqFHLkxsg1d'}],\n",
       " 'available_markets': ['CA', 'US'],\n",
       " 'disc_number': 1,\n",
       " 'duration_ms': 354320,\n",
       " 'explicit': False,\n",
       " 'external_ids': {'isrc': 'GBUM71029604'},\n",
       " 'external_urls': {'spotify': 'https://open.spotify.com/track/7tFiyTwD0nx5a1eklYtX2J'},\n",
       " 'href': 'https://api.spotify.com/v1/tracks/7tFiyTwD0nx5a1eklYtX2J',\n",
       " 'id': '7tFiyTwD0nx5a1eklYtX2J',\n",
       " 'is_local': False,\n",
       " 'name': 'Bohemian Rhapsody - Remastered 2011',\n",
       " 'popularity': 72,\n",
       " 'preview_url': 'https://p.scdn.co/mp3-preview/920986cd9fb5b23bd0b61110f586cfc45caae7bb?cid=715ae75406e24c24a3641929260ca343',\n",
       " 'track_number': 11,\n",
       " 'type': 'track',\n",
       " 'uri': 'spotify:track:7tFiyTwD0nx5a1eklYtX2J'}"
      ]
     },
     "execution_count": 38,
     "metadata": {},
     "output_type": "execute_result"
    }
   ],
   "source": [
    "AUTH_URL = \"https://accounts.spotify.com/api/token\"\n",
    "auth_response = requests.post(AUTH_URL, {\n",
    "    'grant_type': 'client_credentials',\n",
    "    'client_id': cid,\n",
    "    'client_secret': secret,\n",
    "})\n",
    "\n",
    "auth_response_data = auth_response.json()\n",
    "\n",
    "access_token = auth_response_data['access_token']\n",
    "\n",
    "headers = {\n",
    "    'Authorization': 'Bearer {token}'.format(token=access_token)\n",
    "}\n",
    "\n",
    "def getInfo(headers, artistName, trackName):\n",
    "\n",
    "    trackName = trackName.replace(' ', '%20')\n",
    "    \n",
    "    BASE_URL = 'https://api.spotify.com/v1/'\n",
    "    r = requests.get(BASE_URL + 'search?q=' + artistName + '%20track:' + trackName + '&type=track', headers=headers)\n",
    "    r = r.json()\n",
    "\n",
    "    return r['tracks']['items'][0]\n",
    "\n",
    "getInfo(headers,'Queen','Bohemian Rhapsody')"
   ]
  },
  {
   "cell_type": "code",
   "execution_count": null,
   "id": "f34d6a98",
   "metadata": {},
   "outputs": [],
   "source": []
  }
 ],
 "metadata": {
  "kernelspec": {
   "display_name": "Python 3 (ipykernel)",
   "language": "python",
   "name": "python3"
  },
  "language_info": {
   "codemirror_mode": {
    "name": "ipython",
    "version": 3
   },
   "file_extension": ".py",
   "mimetype": "text/x-python",
   "name": "python",
   "nbconvert_exporter": "python",
   "pygments_lexer": "ipython3",
   "version": "3.9.12"
  }
 },
 "nbformat": 4,
 "nbformat_minor": 5
}
