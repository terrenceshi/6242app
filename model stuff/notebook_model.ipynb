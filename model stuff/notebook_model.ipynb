{
 "cells": [
  {
   "cell_type": "code",
   "execution_count": 1,
   "id": "bdfda485",
   "metadata": {},
   "outputs": [],
   "source": [
    "import torch\n",
    "\n",
    "#import model from whatever file here"
   ]
  },
  {
   "cell_type": "code",
   "execution_count": null,
   "id": "466a6482",
   "metadata": {},
   "outputs": [],
   "source": [
    "pytorch_model = Net()\n",
    "\n",
    "modelName = \"pytorch_model.pt\"\n",
    "\n",
    "pytorch_model.load_stated_dict(torch.load(modelName))\n",
    "\n",
    "pytorch_model.eval()\n",
    "\n",
    "#dummy input \n",
    "dummy_input = torch.zeros(1,1,28,28)\n",
    "\n",
    "torch.onnx.export(pytorch_model, dummy_input, 'onnx_model.onnx', verbose = True)"
   ]
  }
 ],
 "metadata": {
  "kernelspec": {
   "display_name": "Python 3 (ipykernel)",
   "language": "python",
   "name": "python3"
  },
  "language_info": {
   "codemirror_mode": {
    "name": "ipython",
    "version": 3
   },
   "file_extension": ".py",
   "mimetype": "text/x-python",
   "name": "python",
   "nbconvert_exporter": "python",
   "pygments_lexer": "ipython3",
   "version": "3.9.12"
  }
 },
 "nbformat": 4,
 "nbformat_minor": 5
}
