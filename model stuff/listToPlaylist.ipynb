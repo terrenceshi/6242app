{
 "cells": [
  {
   "cell_type": "code",
   "execution_count": 1,
   "id": "072e02ac",
   "metadata": {},
   "outputs": [],
   "source": [
    "from os import listdir\n",
    "from os.path import isfile, join\n",
    "\n",
    "import csv\n",
    "import pandas as pd\n",
    "\n",
    "import spotipy\n",
    "from spotipy.oauth2 import SpotifyClientCredentials\n",
    "from spotipy.oauth2 import SpotifyOAuth\n",
    "\n",
    "import requests\n",
    "import re"
   ]
  },
  {
   "cell_type": "code",
   "execution_count": 2,
   "id": "19d040dd",
   "metadata": {},
   "outputs": [],
   "source": [
    "#BOOKS 2 NOOKS ACCOUNT:\n",
    "#user: Books2nooks@outlook.com\n",
    "#pass: strugglebus6242gang"
   ]
  },
  {
   "cell_type": "code",
   "execution_count": 3,
   "id": "f34aad7c",
   "metadata": {},
   "outputs": [],
   "source": [
    "bookName = 'bookTest'\n",
    "\n",
    "inputDict = {}\n",
    "\n",
    "inputDict['bookTest - default'] = [\n",
    "                                    \"spotify:track:5WZDIh4WVkcHItK7y9E8Fl\",\n",
    "                                    \"spotify:track:2rf9i0Enr8cw1JRME8Rsvq\"\n",
    "                                    ]\n",
    "\n",
    "inputDict['bookTest - rock'] = [\n",
    "                                \"spotify:track:4ShMTKXex9FTogbRxbDxNF\",\n",
    "                                \"spotify:track:2rhIfaoRGTAjC89HBhmb3R\"\n",
    "                                ]"
   ]
  },
  {
   "cell_type": "code",
   "execution_count": 4,
   "id": "702472e3",
   "metadata": {},
   "outputs": [],
   "source": [
    "#Set up all the keys and stuff\n",
    "SPOTIFY_CLIENT_ID =\"\"\n",
    "SPOTIFY_SECRET =\"\"\n",
    "REDIRECT_URL = \"http://localhost:3000/\"\n",
    "\n",
    "#set up spotipy manager\n",
    "sp = spotipy.Spotify(\n",
    "    auth_manager=SpotifyOAuth(\n",
    "        scope=\"playlist-modify-public\",\n",
    "        redirect_uri=REDIRECT_URL,\n",
    "        client_id=SPOTIFY_CLIENT_ID,\n",
    "        client_secret=SPOTIFY_SECRET,\n",
    "        cache_path=\"token.txt\"\n",
    "    )\n",
    ")\n",
    "\n",
    "#This is books2nooks's id\n",
    "user_id = \"31bezwu6mascvq773ob6sb7bikjy\""
   ]
  },
  {
   "cell_type": "code",
   "execution_count": 5,
   "id": "524d90a1",
   "metadata": {},
   "outputs": [],
   "source": [
    "def getLinks(bookName, inputDict):\n",
    "    #cut out uri header\n",
    "    for key in inputDict:\n",
    "        spotify_song_uris = []\n",
    "\n",
    "        for uri in inputDict[key]:\n",
    "            spotifyHeader = 'spotify:track:'\n",
    "\n",
    "            cutUri = uri[len(spotifyHeader):]\n",
    "\n",
    "            spotify_song_uris.append(cutUri)\n",
    "\n",
    "        inputDict[key] = spotify_song_uris\n",
    "\n",
    "    #loop through existing playlists to make sure that we dont create duplicate playlists\n",
    "    os = 0\n",
    "    stop = False\n",
    "\n",
    "    inputKeys = list(inputDict.keys())\n",
    "    holder = [0] * len(inputKeys)\n",
    "\n",
    "    links = dict(zip(inputKeys, holder))\n",
    "\n",
    "    while True:\n",
    "        segment = sp.user_playlists(user_id, limit = 50, offset = os)\n",
    "\n",
    "        numItems = len(segment['items'])\n",
    "\n",
    "        for item in segment['items']:\n",
    "            if item['name'] in inputDict:\n",
    "                inputDict.pop(item['name'])\n",
    "\n",
    "                links[item['name']] = item[\"external_urls\"]['spotify']\n",
    "\n",
    "                if len(inputDict) == 0:\n",
    "                    stop = True\n",
    "                    break\n",
    "\n",
    "        if stop:\n",
    "            break\n",
    "\n",
    "        if numItems < 50 or segment['items'] == []:\n",
    "            break\n",
    "\n",
    "        os += 50\n",
    "\n",
    "    if not stop:\n",
    "        desc = \"Generated playlist for \" + bookName\n",
    "\n",
    "        for key in inputDict:\n",
    "            playlist = sp.user_playlist_create(user=f\"{user_id}\", name = key, public=True,\n",
    "                                                  description=desc)\n",
    "\n",
    "            playlistId = playlist[\"id\"]\n",
    "\n",
    "            link = playlist['external_urls']['spotify']\n",
    "\n",
    "            sp.user_playlist_add_tracks(user=f\"{user_id}\", playlist_id=playlistId, tracks=inputDict[key])\n",
    "\n",
    "            links[key] = link\n",
    "\n",
    "        return links\n",
    "    else:\n",
    "        print('playlist exists already, here is link:')\n",
    "        return links"
   ]
  },
  {
   "cell_type": "code",
   "execution_count": 6,
   "id": "8885f1e8",
   "metadata": {},
   "outputs": [
    {
     "data": {
      "text/plain": [
       "{'bookTest - default': 'https://open.spotify.com/playlist/6FwmzzIqG6M5nxKLG0KHDi',\n",
       " 'bookTest - rock': 'https://open.spotify.com/playlist/5rDhjMetuODibS34iQaCDC'}"
      ]
     },
     "execution_count": 6,
     "metadata": {},
     "output_type": "execute_result"
    }
   ],
   "source": [
    "getLinks(bookName, inputDict)"
   ]
  },
  {
   "cell_type": "code",
   "execution_count": null,
   "id": "6b881b25",
   "metadata": {},
   "outputs": [],
   "source": []
  }
 ],
 "metadata": {
  "kernelspec": {
   "display_name": "Python 3 (ipykernel)",
   "language": "python",
   "name": "python3"
  },
  "language_info": {
   "codemirror_mode": {
    "name": "ipython",
    "version": 3
   },
   "file_extension": ".py",
   "mimetype": "text/x-python",
   "name": "python",
   "nbconvert_exporter": "python",
   "pygments_lexer": "ipython3",
   "version": "3.9.12"
  }
 },
 "nbformat": 4,
 "nbformat_minor": 5
}
