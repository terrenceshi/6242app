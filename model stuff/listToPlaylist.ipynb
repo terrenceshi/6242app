{
 "cells": [
  {
   "cell_type": "code",
   "execution_count": 83,
   "id": "072e02ac",
   "metadata": {},
   "outputs": [],
   "source": [
    "from os import listdir\n",
    "from os.path import isfile, join\n",
    "\n",
    "import csv\n",
    "import pandas as pd\n",
    "\n",
    "import spotipy\n",
    "from spotipy.oauth2 import SpotifyClientCredentials\n",
    "from spotipy.oauth2 import SpotifyOAuth\n",
    "\n",
    "import requests\n",
    "import re"
   ]
  },
  {
   "cell_type": "code",
   "execution_count": 84,
   "id": "702472e3",
   "metadata": {},
   "outputs": [],
   "source": [
    "SPOTIFY_CLIENT_ID =\"8960c84e74964817bfb927e83f6e2b59\"\n",
    "SPOTIFY_SECRET =\"3917b5e7cc3342189238c7290f99be3c\"\n",
    "REDIRECT_URL = \"http://localhost:8080/\""
   ]
  },
  {
   "cell_type": "code",
   "execution_count": 85,
   "id": "b140247f",
   "metadata": {},
   "outputs": [],
   "source": [
    "sp = spotipy.Spotify(\n",
    "    auth_manager=SpotifyOAuth(\n",
    "        scope=\"playlist-modify-public\",\n",
    "        redirect_uri=REDIRECT_URL,\n",
    "        client_id=SPOTIFY_CLIENT_ID,\n",
    "        client_secret=SPOTIFY_SECRET,\n",
    "        cache_path=\"token.txt\"\n",
    "    )\n",
    ")"
   ]
  },
  {
   "cell_type": "code",
   "execution_count": 86,
   "id": "38f5e0cc",
   "metadata": {},
   "outputs": [],
   "source": [
    "user_id = \"31bezwu6mascvq773ob6sb7bikjy\""
   ]
  },
  {
   "cell_type": "code",
   "execution_count": 87,
   "id": "524d90a1",
   "metadata": {},
   "outputs": [],
   "source": [
    "'''\n",
    "spotify_song_uris = [\n",
    "                    \"spotify:track:5WZDIh4WVkcHItK7y9E8Fl\",\n",
    "                    \"spotify:track:2rf9i0Enr8cw1JRME8Rsvq\"\n",
    "                    ]\n",
    "'''\n",
    "\n",
    "spotify_song_uris = [\n",
    "                    \"5WZDIh4WVkcHItK7y9E8Fl\",\n",
    "                    \"2rf9i0Enr8cw1JRME8Rsvq\"\n",
    "                    ]"
   ]
  },
  {
   "cell_type": "code",
   "execution_count": 88,
   "id": "ffc01b7e",
   "metadata": {},
   "outputs": [],
   "source": [
    "bookName = 'bookTest'\n",
    "\n",
    "playlistName = bookName + ' playlist'"
   ]
  },
  {
   "cell_type": "code",
   "execution_count": 89,
   "id": "db94b035",
   "metadata": {},
   "outputs": [],
   "source": [
    "playlists = []\n",
    "\n",
    "os = 0\n",
    "stop = False\n",
    "\n",
    "while True:\n",
    "    segment = sp.user_playlists(user_id, limit = 50, offset = os)\n",
    "    \n",
    "    numItems = len(segment['items'])\n",
    "    \n",
    "    for item in segment['items']:\n",
    "        if item['name'] == playlistName:\n",
    "            stop = True\n",
    "            break\n",
    "    \n",
    "    if stop:\n",
    "        break\n",
    "    \n",
    "    playlists = playlists + segment['items']\n",
    "    \n",
    "    if numItems < 50 or segment['items'] == []:\n",
    "        break\n",
    "    \n",
    "    os += 50"
   ]
  },
  {
   "cell_type": "code",
   "execution_count": 90,
   "id": "693985c7",
   "metadata": {},
   "outputs": [
    {
     "name": "stdout",
     "output_type": "stream",
     "text": [
      "playlist_exists_already\n"
     ]
    }
   ],
   "source": [
    "if not stop:\n",
    "    desc = \"Generated playlist for \" + bookName\n",
    "    \n",
    "    playlist = sp.user_playlist_create(user=f\"{user_id}\", name= playlistName, public=True,\n",
    "                                          description=desc)\n",
    "\n",
    "    playlistId = playlist[\"id\"]\n",
    "\n",
    "    link = playlist['external_urls']['spotify']\n",
    "\n",
    "    sp.user_playlist_add_tracks(user=f\"{user_id}\", playlist_id=playlistId, tracks=spotify_song_uris)\n",
    "    \n",
    "    print(link)\n",
    "else:\n",
    "    print('playlist_exists_already')"
   ]
  },
  {
   "cell_type": "code",
   "execution_count": null,
   "id": "8885f1e8",
   "metadata": {},
   "outputs": [],
   "source": []
  }
 ],
 "metadata": {
  "kernelspec": {
   "display_name": "Python 3 (ipykernel)",
   "language": "python",
   "name": "python3"
  },
  "language_info": {
   "codemirror_mode": {
    "name": "ipython",
    "version": 3
   },
   "file_extension": ".py",
   "mimetype": "text/x-python",
   "name": "python",
   "nbconvert_exporter": "python",
   "pygments_lexer": "ipython3",
   "version": "3.9.12"
  }
 },
 "nbformat": 4,
 "nbformat_minor": 5
}
