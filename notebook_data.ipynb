{
 "cells": [
  {
   "cell_type": "code",
   "execution_count": 8,
   "id": "573330ec",
   "metadata": {},
   "outputs": [],
   "source": [
    "import requests\n",
    "import json\n",
    "import http.client\n",
    "#from lyrics_api import *"
   ]
  },
  {
   "cell_type": "code",
   "execution_count": 76,
   "id": "bc4b0bac",
   "metadata": {},
   "outputs": [],
   "source": [
    "def getLyrics(artistName, trackName):\n",
    "\n",
    "    #CREATE THE URL\n",
    "    baseUrl = \"https://api.musixmatch.com/ws/1.1/\"\n",
    "\n",
    "    apiKey = \"&apikey=bd88be6fb629c354c5ca281296ac8c47\"\n",
    "\n",
    "    lyricsMatcher = \"matcher.lyrics.get\"\n",
    "\n",
    "    formatUrl = \"?format=json&callback=callback\"\n",
    "\n",
    "    artistSearch = \"&q_artist=\"\n",
    "\n",
    "    trackSearch = \"&q_track=\"\n",
    "\n",
    "    #MAKE THE API CALL\n",
    "    apiCall = baseUrl + lyricsMatcher + formatUrl + artistSearch + artistName + trackSearch + trackName + apiKey\n",
    "\n",
    "    request = requests.get(apiCall)\n",
    "\n",
    "    data = request.json()\n",
    "\n",
    "    data = data['message']['body']\n",
    "\n",
    "    lyrics = data['lyrics']['lyrics_body']\n",
    "    \n",
    "    #PROCESS THE DATA\n",
    "    lyrics = lyrics.split('\\n')\n",
    "    \n",
    "    lyrics = list(filter(lambda a: a != '', lyrics))\n",
    "    \n",
    "    lyrics = lyrics[:-2]\n",
    "    \n",
    "    output = \"\"\n",
    "    \n",
    "    for sentence in lyrics:\n",
    "        output = output + sentence + \". \"\n",
    "        \n",
    "    output = output[:-1]\n",
    "    \n",
    "    return output\n",
    "\n"
   ]
  },
  {
   "cell_type": "code",
   "execution_count": 77,
   "id": "3e8366c3",
   "metadata": {},
   "outputs": [
    {
     "data": {
      "text/plain": [
       "\"I've been waking up. Getting so fucked up. Yeah, I'm all fucked up. Tryna fuck shit up. I've been waking up. Wanna fuck you up. Wanna fuck you up. I wanna fuck you up, ah. I've been waking up. Getting so fucked up. Tryna fuck shit up. Yeah, I'm all fucked up, ah. I've been waking up. Wanna fuck you up. Wanna fuck you up. I wanna fuck you up.\""
      ]
     },
     "execution_count": 77,
     "metadata": {},
     "output_type": "execute_result"
    }
   ],
   "source": [
    "lyrics = getLyrics(\"FIDLAR\", \"FSU\")\n",
    "\n",
    "lyrics"
   ]
  },
  {
   "cell_type": "code",
   "execution_count": null,
   "id": "06700296",
   "metadata": {},
   "outputs": [],
   "source": []
  }
 ],
 "metadata": {
  "kernelspec": {
   "display_name": "Python 3 (ipykernel)",
   "language": "python",
   "name": "python3"
  },
  "language_info": {
   "codemirror_mode": {
    "name": "ipython",
    "version": 3
   },
   "file_extension": ".py",
   "mimetype": "text/x-python",
   "name": "python",
   "nbconvert_exporter": "python",
   "pygments_lexer": "ipython3",
   "version": "3.9.12"
  }
 },
 "nbformat": 4,
 "nbformat_minor": 5
}
